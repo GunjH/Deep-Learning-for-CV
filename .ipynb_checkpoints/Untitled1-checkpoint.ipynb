{
 "cells": [
  {
   "cell_type": "code",
   "execution_count": 2,
   "id": "33b32e7c-1b2e-40e9-a865-e0645c4d5bb5",
   "metadata": {},
   "outputs": [],
   "source": [
    "import rasterio\n",
    "from rasterio.features import geometry_mask\n",
    "import geopandas as gpd\n",
    "from shapely.geometry import box, Polygon\n",
    "import shapely.ops as ops\n",
    "import numpy as np\n",
    "import cv2\n",
    "import glob\n",
    "import os "
   ]
  },
  {
   "cell_type": "code",
   "execution_count": 3,
   "id": "a2ce73f7-37e2-41d8-b2e6-cf56ec7fd558",
   "metadata": {},
   "outputs": [],
   "source": [
    "def create_mask(input_geojson_path, tif_path, output_mask_path, width=1024, height=1024):\n",
    "    # Load the input GeoJSON file using geopandas\n",
    "    gdf = gpd.read_file(input_geojson_path)\n",
    "\n",
    "    # Open the TIF file using rasterio\n",
    "    with rasterio.open(tif_path) as src:\n",
    "        # Get the bounding box coordinates for the TIF file\n",
    "        left, bottom, right, top = src.bounds\n",
    "\n",
    "        # Define the extent as a GeoDataFrame with a single polygon\n",
    "        extent = gpd.GeoDataFrame(geometry=[box(left, bottom, right, top)], crs=src.crs)\n",
    "\n",
    "        # Reproject the extent to match the CRS of the input GeoJSON file\n",
    "        extent = extent.to_crs(gdf.crs)\n",
    "        left, bottom, right, top = extent.bounds.values[0]\n",
    "\n",
    "    # Reproject the input GeoJSON file to match the CRS of the extent\n",
    "    gdf = gdf.to_crs(extent.crs)\n",
    "\n",
    "    # Crop the GeoJSON file by the extent\n",
    "    cropped_gdf = gpd.overlay(gdf, extent, how='intersection')\n",
    "\n",
    "    # Convert the cropped GeoDataFrame to a Shapely MultiPolygon object\n",
    "    polygons = []\n",
    "    for geom in cropped_gdf.geometry:\n",
    "        if isinstance(geom, Polygon):\n",
    "            polygons.append(geom)\n",
    "        else:\n",
    "            print (geom)\n",
    "            for poly in geom.geoms:\n",
    "                # do something with the polygon, e.g. get its area\n",
    "                polygons.append(poly)\n",
    "            print (geom)\n",
    "            # polygons.extend(list(geom))\n",
    "\n",
    "    # Combine all polygons into a single polygon\n",
    "    combined_polygon = ops.cascaded_union(polygons)\n",
    "\n",
    "    # Define the size and resolution of the mask\n",
    "    transform = rasterio.transform.from_bounds(left, bottom, right, top, width=width, height=height)\n",
    "\n",
    "    # Create a raster image from the polygon\n",
    "    raster = geometry_mask([combined_polygon], out_shape=(height, width), transform=transform)\n",
    "\n",
    "    # Convert the raster image to a binary mask\n",
    "    mask = (raster * 255).astype(np.uint8)\n",
    "    mask = cv2.bitwise_not(mask)\n",
    "\n",
    "    # Save the mask to a file\n",
    "    cv2.imwrite(output_mask_path, mask)\n",
    "    \n",
    "    # Return the mask as a NumPy array\n",
    "    return mask"
   ]
  },
  {
   "cell_type": "code",
   "execution_count": 17,
   "id": "4bbb6c2b-90d4-4c24-9917-6103f5844144",
   "metadata": {},
   "outputs": [
    {
     "name": "stdout",
     "output_type": "stream",
     "text": [
      "./data/Turkey/mask/1050050044DE7E00-visual_11_10_10.png\n",
      "./data/Turkey/mask/1050050044DE7E00-visual_11_10_11.png\n"
     ]
    },
    {
     "name": "stderr",
     "output_type": "stream",
     "text": [
      "/tmp/ipykernel_212857/1235675409.py:37: ShapelyDeprecationWarning: The 'cascaded_union()' function is deprecated. Use 'unary_union()' instead.\n",
      "  combined_polygon = ops.cascaded_union(polygons)\n",
      "/tmp/ipykernel_212857/1235675409.py:37: ShapelyDeprecationWarning: The 'cascaded_union()' function is deprecated. Use 'unary_union()' instead.\n",
      "  combined_polygon = ops.cascaded_union(polygons)\n"
     ]
    },
    {
     "name": "stdout",
     "output_type": "stream",
     "text": [
      "./data/Turkey/mask/1050050044DE7E00-visual_11_10_12.png\n",
      "./data/Turkey/mask/1050050044DE7E00-visual_11_10_13.png\n"
     ]
    },
    {
     "name": "stderr",
     "output_type": "stream",
     "text": [
      "/tmp/ipykernel_212857/1235675409.py:37: ShapelyDeprecationWarning: The 'cascaded_union()' function is deprecated. Use 'unary_union()' instead.\n",
      "  combined_polygon = ops.cascaded_union(polygons)\n",
      "/tmp/ipykernel_212857/1235675409.py:37: ShapelyDeprecationWarning: The 'cascaded_union()' function is deprecated. Use 'unary_union()' instead.\n",
      "  combined_polygon = ops.cascaded_union(polygons)\n",
      "/tmp/ipykernel_212857/1235675409.py:37: ShapelyDeprecationWarning: The 'cascaded_union()' function is deprecated. Use 'unary_union()' instead.\n",
      "  combined_polygon = ops.cascaded_union(polygons)\n",
      "/tmp/ipykernel_212857/1235675409.py:37: ShapelyDeprecationWarning: The 'cascaded_union()' function is deprecated. Use 'unary_union()' instead.\n",
      "  combined_polygon = ops.cascaded_union(polygons)\n"
     ]
    },
    {
     "name": "stdout",
     "output_type": "stream",
     "text": [
      "./data/Turkey/mask/1050050044DE7E00-visual_11_10_14.png\n",
      "./data/Turkey/mask/1050050044DE7E00-visual_11_10_6.png\n",
      "./data/Turkey/mask/1050050044DE7E00-visual_11_10_7.png\n"
     ]
    },
    {
     "name": "stderr",
     "output_type": "stream",
     "text": [
      "/tmp/ipykernel_212857/1235675409.py:37: ShapelyDeprecationWarning: The 'cascaded_union()' function is deprecated. Use 'unary_union()' instead.\n",
      "  combined_polygon = ops.cascaded_union(polygons)\n",
      "/tmp/ipykernel_212857/1235675409.py:37: ShapelyDeprecationWarning: The 'cascaded_union()' function is deprecated. Use 'unary_union()' instead.\n",
      "  combined_polygon = ops.cascaded_union(polygons)\n"
     ]
    },
    {
     "name": "stdout",
     "output_type": "stream",
     "text": [
      "./data/Turkey/mask/1050050044DE7E00-visual_11_10_9.png\n",
      "./data/Turkey/mask/1050050044DE7E00-visual_11_11_10.png\n"
     ]
    },
    {
     "name": "stderr",
     "output_type": "stream",
     "text": [
      "/tmp/ipykernel_212857/1235675409.py:37: ShapelyDeprecationWarning: The 'cascaded_union()' function is deprecated. Use 'unary_union()' instead.\n",
      "  combined_polygon = ops.cascaded_union(polygons)\n",
      "/tmp/ipykernel_212857/1235675409.py:37: ShapelyDeprecationWarning: The 'cascaded_union()' function is deprecated. Use 'unary_union()' instead.\n",
      "  combined_polygon = ops.cascaded_union(polygons)\n",
      "/tmp/ipykernel_212857/1235675409.py:37: ShapelyDeprecationWarning: The 'cascaded_union()' function is deprecated. Use 'unary_union()' instead.\n",
      "  combined_polygon = ops.cascaded_union(polygons)\n"
     ]
    },
    {
     "name": "stdout",
     "output_type": "stream",
     "text": [
      "./data/Turkey/mask/1050050044DE7E00-visual_11_11_11.png\n",
      "./data/Turkey/mask/1050050044DE7E00-visual_11_11_2.png\n",
      "./data/Turkey/mask/1050050044DE7E00-visual_11_11_3.png\n"
     ]
    },
    {
     "name": "stderr",
     "output_type": "stream",
     "text": [
      "/tmp/ipykernel_212857/1235675409.py:37: ShapelyDeprecationWarning: The 'cascaded_union()' function is deprecated. Use 'unary_union()' instead.\n",
      "  combined_polygon = ops.cascaded_union(polygons)\n",
      "/tmp/ipykernel_212857/1235675409.py:37: ShapelyDeprecationWarning: The 'cascaded_union()' function is deprecated. Use 'unary_union()' instead.\n",
      "  combined_polygon = ops.cascaded_union(polygons)\n",
      "/tmp/ipykernel_212857/1235675409.py:37: ShapelyDeprecationWarning: The 'cascaded_union()' function is deprecated. Use 'unary_union()' instead.\n",
      "  combined_polygon = ops.cascaded_union(polygons)\n",
      "/tmp/ipykernel_212857/1235675409.py:37: ShapelyDeprecationWarning: The 'cascaded_union()' function is deprecated. Use 'unary_union()' instead.\n",
      "  combined_polygon = ops.cascaded_union(polygons)\n"
     ]
    },
    {
     "name": "stdout",
     "output_type": "stream",
     "text": [
      "./data/Turkey/mask/1050050044DE7E00-visual_11_11_4.png\n",
      "./data/Turkey/mask/1050050044DE7E00-visual_11_11_5.png\n",
      "./data/Turkey/mask/1050050044DE7E00-visual_11_11_6.png\n",
      "MULTIPOLYGON (((4076920.868722082 4440072.306851708, 4076908.640572668 4440070.380093897, 4076907.51542467 4440072.3947809385, 4076920.7901285985 4440072.727991482, 4076920.868722082 4440072.306851708)), ((4076882.5825892696 4440067.514615378, 4076881.593640242 4440071.74411393, 4076907.434965924 4440072.39276133, 4076882.5825892696 4440067.514615378)))\n",
      "MULTIPOLYGON (((4076920.868722082 4440072.306851708, 4076908.640572668 4440070.380093897, 4076907.51542467 4440072.3947809385, 4076920.7901285985 4440072.727991482, 4076920.868722082 4440072.306851708)), ((4076882.5825892696 4440067.514615378, 4076881.593640242 4440071.74411393, 4076907.434965924 4440072.39276133, 4076882.5825892696 4440067.514615378)))\n",
      "./data/Turkey/mask/1050050044DE7E00-visual_11_11_7.png\n",
      "./data/Turkey/mask/1050050044DE7E00-visual_11_11_8.png\n",
      "./data/Turkey/mask/1050050044DE7E00-visual_11_11_9.png\n"
     ]
    },
    {
     "name": "stderr",
     "output_type": "stream",
     "text": [
      "/tmp/ipykernel_212857/1235675409.py:37: ShapelyDeprecationWarning: The 'cascaded_union()' function is deprecated. Use 'unary_union()' instead.\n",
      "  combined_polygon = ops.cascaded_union(polygons)\n",
      "/tmp/ipykernel_212857/1235675409.py:37: ShapelyDeprecationWarning: The 'cascaded_union()' function is deprecated. Use 'unary_union()' instead.\n",
      "  combined_polygon = ops.cascaded_union(polygons)\n",
      "/tmp/ipykernel_212857/1235675409.py:37: ShapelyDeprecationWarning: The 'cascaded_union()' function is deprecated. Use 'unary_union()' instead.\n",
      "  combined_polygon = ops.cascaded_union(polygons)\n"
     ]
    },
    {
     "name": "stdout",
     "output_type": "stream",
     "text": [
      "./data/Turkey/mask/1050050044DE7E00-visual_11_12_0.png\n",
      "./data/Turkey/mask/1050050044DE7E00-visual_11_12_1.png\n"
     ]
    },
    {
     "name": "stderr",
     "output_type": "stream",
     "text": [
      "/tmp/ipykernel_212857/1235675409.py:37: ShapelyDeprecationWarning: The 'cascaded_union()' function is deprecated. Use 'unary_union()' instead.\n",
      "  combined_polygon = ops.cascaded_union(polygons)\n",
      "/tmp/ipykernel_212857/1235675409.py:37: ShapelyDeprecationWarning: The 'cascaded_union()' function is deprecated. Use 'unary_union()' instead.\n",
      "  combined_polygon = ops.cascaded_union(polygons)\n"
     ]
    },
    {
     "name": "stdout",
     "output_type": "stream",
     "text": [
      "./data/Turkey/mask/1050050044DE7E00-visual_11_12_2.png\n",
      "MULTIPOLYGON (((4076938.25080216 4441323.529630027, 4076932.4051244343 4441311.033625362, 4076932.0068114824 4441327.044701113, 4076938.25080216 4441323.529630027)), ((4076933.3138490575 4441332.370810696, 4076931.945948822 4441329.49121122, 4076931.8555205488 4441333.126176968, 4076933.3138490575 4441332.370810696)))\n",
      "MULTIPOLYGON (((4076938.25080216 4441323.529630027, 4076932.4051244343 4441311.033625362, 4076932.0068114824 4441327.044701113, 4076938.25080216 4441323.529630027)), ((4076933.3138490575 4441332.370810696, 4076931.945948822 4441329.49121122, 4076931.8555205488 4441333.126176968, 4076933.3138490575 4441332.370810696)))\n",
      "./data/Turkey/mask/1050050044DE7E00-visual_11_12_3.png\n"
     ]
    },
    {
     "name": "stderr",
     "output_type": "stream",
     "text": [
      "/tmp/ipykernel_212857/1235675409.py:37: ShapelyDeprecationWarning: The 'cascaded_union()' function is deprecated. Use 'unary_union()' instead.\n",
      "  combined_polygon = ops.cascaded_union(polygons)\n",
      "/tmp/ipykernel_212857/1235675409.py:37: ShapelyDeprecationWarning: The 'cascaded_union()' function is deprecated. Use 'unary_union()' instead.\n",
      "  combined_polygon = ops.cascaded_union(polygons)\n"
     ]
    },
    {
     "name": "stdout",
     "output_type": "stream",
     "text": [
      "./data/Turkey/mask/1050050044DE7E00-visual_11_12_4.png\n",
      "./data/Turkey/mask/1050050044DE7E00-visual_11_12_5.png\n",
      "./data/Turkey/mask/1050050044DE7E00-visual_11_12_6.png\n"
     ]
    },
    {
     "name": "stderr",
     "output_type": "stream",
     "text": [
      "/tmp/ipykernel_212857/1235675409.py:37: ShapelyDeprecationWarning: The 'cascaded_union()' function is deprecated. Use 'unary_union()' instead.\n",
      "  combined_polygon = ops.cascaded_union(polygons)\n",
      "/tmp/ipykernel_212857/1235675409.py:37: ShapelyDeprecationWarning: The 'cascaded_union()' function is deprecated. Use 'unary_union()' instead.\n",
      "  combined_polygon = ops.cascaded_union(polygons)\n",
      "/tmp/ipykernel_212857/1235675409.py:37: ShapelyDeprecationWarning: The 'cascaded_union()' function is deprecated. Use 'unary_union()' instead.\n",
      "  combined_polygon = ops.cascaded_union(polygons)\n",
      "/tmp/ipykernel_212857/1235675409.py:37: ShapelyDeprecationWarning: The 'cascaded_union()' function is deprecated. Use 'unary_union()' instead.\n",
      "  combined_polygon = ops.cascaded_union(polygons)\n"
     ]
    },
    {
     "name": "stdout",
     "output_type": "stream",
     "text": [
      "./data/Turkey/mask/1050050044DE7E00-visual_11_12_7.png\n",
      "./data/Turkey/mask/1050050044DE7E00-visual_11_13_0.png\n"
     ]
    },
    {
     "name": "stderr",
     "output_type": "stream",
     "text": [
      "/tmp/ipykernel_212857/1235675409.py:37: ShapelyDeprecationWarning: The 'cascaded_union()' function is deprecated. Use 'unary_union()' instead.\n",
      "  combined_polygon = ops.cascaded_union(polygons)\n",
      "/tmp/ipykernel_212857/1235675409.py:37: ShapelyDeprecationWarning: The 'cascaded_union()' function is deprecated. Use 'unary_union()' instead.\n",
      "  combined_polygon = ops.cascaded_union(polygons)\n"
     ]
    },
    {
     "name": "stdout",
     "output_type": "stream",
     "text": [
      "./data/Turkey/mask/1050050044DE7E00-visual_11_13_1.png\n",
      "MULTIPOLYGON (((4077596.980834532 4441662.266492552, 4077599.8364610397 4441660.2450597, 4077595.4883447536 4441660.136194797, 4077596.980834532 4441662.266492552)), ((4077590.6707240352 4441660.152249656, 4077590.8972453997 4441660.021246267, 4077590.574424778 4441660.013163724, 4077590.6707240352 4441660.152249656)))\n",
      "MULTIPOLYGON (((4077596.980834532 4441662.266492552, 4077599.8364610397 4441660.2450597, 4077595.4883447536 4441660.136194797, 4077596.980834532 4441662.266492552)), ((4077590.6707240352 4441660.152249656, 4077590.8972453997 4441660.021246267, 4077590.574424778 4441660.013163724, 4077590.6707240352 4441660.152249656)))\n",
      "MULTIPOLYGON (((4077580.750002157 4442047.573975157, 4077574.4807140785 4442052.272400479, 4077584.2264698255 4442052.516432299, 4077580.750002157 4442047.573975157)), ((4077564.846925985 4442051.358398983, 4077556.967043172 4442041.411133356, 4077546.8293478596 4442047.025879452, 4077549.774733832 4442051.653767562, 4077565.073131496 4442052.036836449, 4077564.846925985 4442051.358398983)))\n",
      "MULTIPOLYGON (((4077580.750002157 4442047.573975157, 4077574.4807140785 4442052.272400479, 4077584.2264698255 4442052.516432299, 4077580.750002157 4442047.573975157)), ((4077564.846925985 4442051.358398983, 4077556.967043172 4442041.411133356, 4077546.8293478596 4442047.025879452, 4077549.774733832 4442051.653767562, 4077565.073131496 4442052.036836449, 4077564.846925985 4442051.358398983)))\n",
      "./data/Turkey/mask/1050050044DE7E00-visual_11_13_2.png\n"
     ]
    },
    {
     "name": "stderr",
     "output_type": "stream",
     "text": [
      "/tmp/ipykernel_212857/1235675409.py:37: ShapelyDeprecationWarning: The 'cascaded_union()' function is deprecated. Use 'unary_union()' instead.\n",
      "  combined_polygon = ops.cascaded_union(polygons)\n",
      "/tmp/ipykernel_212857/1235675409.py:37: ShapelyDeprecationWarning: The 'cascaded_union()' function is deprecated. Use 'unary_union()' instead.\n",
      "  combined_polygon = ops.cascaded_union(polygons)\n",
      "/tmp/ipykernel_212857/1235675409.py:37: ShapelyDeprecationWarning: The 'cascaded_union()' function is deprecated. Use 'unary_union()' instead.\n",
      "  combined_polygon = ops.cascaded_union(polygons)\n"
     ]
    },
    {
     "name": "stdout",
     "output_type": "stream",
     "text": [
      "./data/Turkey/mask/1050050044DE7E00-visual_11_13_3.png\n",
      "./data/Turkey/mask/1050050044DE7E00-visual_11_13_4.png\n",
      "./data/Turkey/mask/1050050044DE7E00-visual_11_14_0.png\n"
     ]
    },
    {
     "name": "stderr",
     "output_type": "stream",
     "text": [
      "/tmp/ipykernel_212857/1235675409.py:37: ShapelyDeprecationWarning: The 'cascaded_union()' function is deprecated. Use 'unary_union()' instead.\n",
      "  combined_polygon = ops.cascaded_union(polygons)\n",
      "/tmp/ipykernel_212857/1235675409.py:37: ShapelyDeprecationWarning: The 'cascaded_union()' function is deprecated. Use 'unary_union()' instead.\n",
      "  combined_polygon = ops.cascaded_union(polygons)\n"
     ]
    },
    {
     "name": "stdout",
     "output_type": "stream",
     "text": [
      "./data/Turkey/mask/1050050044DE7E00-visual_11_14_1.png\n",
      "./data/Turkey/mask/1050050044DE7E00-visual_11_14_12.png\n"
     ]
    },
    {
     "name": "stderr",
     "output_type": "stream",
     "text": [
      "/tmp/ipykernel_212857/1235675409.py:37: ShapelyDeprecationWarning: The 'cascaded_union()' function is deprecated. Use 'unary_union()' instead.\n",
      "  combined_polygon = ops.cascaded_union(polygons)\n",
      "/tmp/ipykernel_212857/1235675409.py:37: ShapelyDeprecationWarning: The 'cascaded_union()' function is deprecated. Use 'unary_union()' instead.\n",
      "  combined_polygon = ops.cascaded_union(polygons)\n",
      "/tmp/ipykernel_212857/1235675409.py:37: ShapelyDeprecationWarning: The 'cascaded_union()' function is deprecated. Use 'unary_union()' instead.\n",
      "  combined_polygon = ops.cascaded_union(polygons)\n"
     ]
    },
    {
     "name": "stdout",
     "output_type": "stream",
     "text": [
      "./data/Turkey/mask/1050050044DE7E00-visual_11_14_2.png\n",
      "./data/Turkey/mask/1050050044DE7E00-visual_11_14_3.png\n",
      "./data/Turkey/mask/1050050044DE7E00-visual_11_14_4.png\n"
     ]
    },
    {
     "name": "stderr",
     "output_type": "stream",
     "text": [
      "/tmp/ipykernel_212857/1235675409.py:37: ShapelyDeprecationWarning: The 'cascaded_union()' function is deprecated. Use 'unary_union()' instead.\n",
      "  combined_polygon = ops.cascaded_union(polygons)\n",
      "/tmp/ipykernel_212857/1235675409.py:37: ShapelyDeprecationWarning: The 'cascaded_union()' function is deprecated. Use 'unary_union()' instead.\n",
      "  combined_polygon = ops.cascaded_union(polygons)\n"
     ]
    },
    {
     "name": "stdout",
     "output_type": "stream",
     "text": [
      "./data/Turkey/mask/1050050044DE7E00-visual_11_15_0.png\n",
      "./data/Turkey/mask/1050050044DE7E00-visual_11_15_1.png\n",
      "MULTIPOLYGON (((4078324.015505086 4442067.112305233, 4078321.1930605285 4442070.938055604, 4078330.103494827 4442071.160510528, 4078324.015505086 4442067.112305233)), ((4078319.560884725 4442070.062500547, 4078318.9911805657 4442070.883084205, 4078321.0818074853 4442070.935278097, 4078319.560884725 4442070.062500547)))\n",
      "MULTIPOLYGON (((4078324.015505086 4442067.112305233, 4078321.1930605285 4442070.938055604, 4078330.103494827 4442071.160510528, 4078324.015505086 4442067.112305233)), ((4078319.560884725 4442070.062500547, 4078318.9911805657 4442070.883084205, 4078321.0818074853 4442070.935278097, 4078319.560884725 4442070.062500547)))\n",
      "./data/Turkey/mask/1050050044DE7E00-visual_11_15_2.png\n",
      "./data/Turkey/mask/1050050044DE7E00-visual_11_15_3.png\n",
      "./data/Turkey/mask/1050050044DE7E00-visual_11_16_0.png\n"
     ]
    },
    {
     "name": "stderr",
     "output_type": "stream",
     "text": [
      "/tmp/ipykernel_212857/1235675409.py:37: ShapelyDeprecationWarning: The 'cascaded_union()' function is deprecated. Use 'unary_union()' instead.\n",
      "  combined_polygon = ops.cascaded_union(polygons)\n",
      "/tmp/ipykernel_212857/1235675409.py:37: ShapelyDeprecationWarning: The 'cascaded_union()' function is deprecated. Use 'unary_union()' instead.\n",
      "  combined_polygon = ops.cascaded_union(polygons)\n",
      "/tmp/ipykernel_212857/1235675409.py:37: ShapelyDeprecationWarning: The 'cascaded_union()' function is deprecated. Use 'unary_union()' instead.\n",
      "  combined_polygon = ops.cascaded_union(polygons)\n",
      "/tmp/ipykernel_212857/1235675409.py:37: ShapelyDeprecationWarning: The 'cascaded_union()' function is deprecated. Use 'unary_union()' instead.\n",
      "  combined_polygon = ops.cascaded_union(polygons)\n",
      "/tmp/ipykernel_212857/1235675409.py:37: ShapelyDeprecationWarning: The 'cascaded_union()' function is deprecated. Use 'unary_union()' instead.\n",
      "  combined_polygon = ops.cascaded_union(polygons)\n",
      "/tmp/ipykernel_212857/1235675409.py:37: ShapelyDeprecationWarning: The 'cascaded_union()' function is deprecated. Use 'unary_union()' instead.\n",
      "  combined_polygon = ops.cascaded_union(polygons)\n",
      "/tmp/ipykernel_212857/1235675409.py:37: ShapelyDeprecationWarning: The 'cascaded_union()' function is deprecated. Use 'unary_union()' instead.\n",
      "  combined_polygon = ops.cascaded_union(polygons)\n"
     ]
    },
    {
     "name": "stdout",
     "output_type": "stream",
     "text": [
      "./data/Turkey/mask/1050050044DE7E00-visual_11_16_1.png\n",
      "./data/Turkey/mask/1050050044DE7E00-visual_11_16_2.png\n",
      "./data/Turkey/mask/1050050044DE7E00-visual_11_16_3.png\n",
      "./data/Turkey/mask/1050050044DE7E00-visual_11_8_12.png\n"
     ]
    },
    {
     "name": "stderr",
     "output_type": "stream",
     "text": [
      "/tmp/ipykernel_212857/1235675409.py:37: ShapelyDeprecationWarning: The 'cascaded_union()' function is deprecated. Use 'unary_union()' instead.\n",
      "  combined_polygon = ops.cascaded_union(polygons)\n",
      "/tmp/ipykernel_212857/1235675409.py:37: ShapelyDeprecationWarning: The 'cascaded_union()' function is deprecated. Use 'unary_union()' instead.\n",
      "  combined_polygon = ops.cascaded_union(polygons)\n",
      "/tmp/ipykernel_212857/1235675409.py:37: ShapelyDeprecationWarning: The 'cascaded_union()' function is deprecated. Use 'unary_union()' instead.\n",
      "  combined_polygon = ops.cascaded_union(polygons)\n",
      "/tmp/ipykernel_212857/1235675409.py:37: ShapelyDeprecationWarning: The 'cascaded_union()' function is deprecated. Use 'unary_union()' instead.\n",
      "  combined_polygon = ops.cascaded_union(polygons)\n",
      "/tmp/ipykernel_212857/1235675409.py:37: ShapelyDeprecationWarning: The 'cascaded_union()' function is deprecated. Use 'unary_union()' instead.\n",
      "  combined_polygon = ops.cascaded_union(polygons)\n"
     ]
    },
    {
     "name": "stdout",
     "output_type": "stream",
     "text": [
      "./data/Turkey/mask/1050050044DE7E00-visual_11_8_13.png\n",
      "./data/Turkey/mask/1050050044DE7E00-visual_11_9_10.png\n",
      "./data/Turkey/mask/1050050044DE7E00-visual_11_9_11.png\n",
      "./data/Turkey/mask/1050050044DE7E00-visual_11_9_12.png\n",
      "./data/Turkey/mask/1050050044DE7E00-visual_11_9_13.png\n"
     ]
    },
    {
     "name": "stderr",
     "output_type": "stream",
     "text": [
      "/tmp/ipykernel_212857/1235675409.py:37: ShapelyDeprecationWarning: The 'cascaded_union()' function is deprecated. Use 'unary_union()' instead.\n",
      "  combined_polygon = ops.cascaded_union(polygons)\n",
      "/tmp/ipykernel_212857/1235675409.py:37: ShapelyDeprecationWarning: The 'cascaded_union()' function is deprecated. Use 'unary_union()' instead.\n",
      "  combined_polygon = ops.cascaded_union(polygons)\n",
      "/tmp/ipykernel_212857/1235675409.py:37: ShapelyDeprecationWarning: The 'cascaded_union()' function is deprecated. Use 'unary_union()' instead.\n",
      "  combined_polygon = ops.cascaded_union(polygons)\n"
     ]
    },
    {
     "name": "stdout",
     "output_type": "stream",
     "text": [
      "./data/Turkey/mask/1050050044DE7E00-visual_11_9_14.png\n",
      "./data/Turkey/mask/1050050044DE7E00-visual_11_9_6.png\n",
      "./data/Turkey/mask/1050050044DE7E00-visual_11_9_7.png\n",
      "./data/Turkey/mask/1050050044DE7E00-visual_11_9_8.png\n",
      "MULTIPOLYGON (((4076109.265511633 4438875.004605615, 4076109.6877305405 4438874.628151628, 4076108.7836822285 4438874.60539892, 4076109.265511633 4438875.004605615)), ((4076101.363716139 4438874.418656336, 4076096.4907382783 4438874.296015279, 4076098.7730133836 4438876.707098707, 4076101.363716139 4438874.418656336)))\n",
      "MULTIPOLYGON (((4076109.265511633 4438875.004605615, 4076109.6877305405 4438874.628151628, 4076108.7836822285 4438874.60539892, 4076109.265511633 4438875.004605615)), ((4076101.363716139 4438874.418656336, 4076096.4907382783 4438874.296015279, 4076098.7730133836 4438876.707098707, 4076101.363716139 4438874.418656336)))\n"
     ]
    },
    {
     "name": "stderr",
     "output_type": "stream",
     "text": [
      "/tmp/ipykernel_212857/1235675409.py:37: ShapelyDeprecationWarning: The 'cascaded_union()' function is deprecated. Use 'unary_union()' instead.\n",
      "  combined_polygon = ops.cascaded_union(polygons)\n",
      "/tmp/ipykernel_212857/1235675409.py:37: ShapelyDeprecationWarning: The 'cascaded_union()' function is deprecated. Use 'unary_union()' instead.\n",
      "  combined_polygon = ops.cascaded_union(polygons)\n"
     ]
    }
   ],
   "source": [
    "tiffpath = './data/Turkey/images/'\n",
    "tiff_files = sorted(glob.glob(os.path.join(tiffpath, \"*.tif\")))\n",
    "jsonpath = './data/Turkey/labels/'\n",
    "json_files = sorted(glob.glob(os.path.join(jsonpath, \"*.geojson\")))\n",
    "output_path = './data/Turkey/mask/'\n",
    "i = 0\n",
    "failed = []\n",
    "for img in tiff_files:\n",
    "    output_mask_path = os.path.join(output_path, os.path.splitext(os.path.basename(img))[0] + '_mask.png')\n",
    "    print(output_mask_path)\n",
    "    try:\n",
    "        mask = create_mask(json_files[i], img, output_mask_path)\n",
    "        cv2.imwrite(output_mask_path, mask)\n",
    "        i+=1\n",
    "    except:\n",
    "        failed.append(img)\n",
    "        continue"
   ]
  },
  {
   "cell_type": "code",
   "execution_count": 8,
   "id": "6a76ba5c-6de3-42f8-868b-517ac20ad024",
   "metadata": {},
   "outputs": [
    {
     "name": "stderr",
     "output_type": "stream",
     "text": [
      "/tmp/ipykernel_212857/1235675409.py:37: ShapelyDeprecationWarning: The 'cascaded_union()' function is deprecated. Use 'unary_union()' instead.\n",
      "  combined_polygon = ops.cascaded_union(polygons)\n"
     ]
    }
   ],
   "source": [
    "\n",
    "mask = create_mask('./data/Turkey/labels/1050050044DE7E00-visual_11_16_3.geojson', './data/Turkey/images/1050050044DE7E00-visual_11_16_3.tif', 'red_square1.png')"
   ]
  },
  {
   "cell_type": "code",
   "execution_count": null,
   "id": "d505f99a-9333-4f00-81ca-7643fcd9bd27",
   "metadata": {},
   "outputs": [],
   "source": []
  }
 ],
 "metadata": {
  "kernelspec": {
   "display_name": "Python 3 (ipykernel)",
   "language": "python",
   "name": "python3"
  },
  "language_info": {
   "codemirror_mode": {
    "name": "ipython",
    "version": 3
   },
   "file_extension": ".py",
   "mimetype": "text/x-python",
   "name": "python",
   "nbconvert_exporter": "python",
   "pygments_lexer": "ipython3",
   "version": "3.8.16"
  }
 },
 "nbformat": 4,
 "nbformat_minor": 5
}
