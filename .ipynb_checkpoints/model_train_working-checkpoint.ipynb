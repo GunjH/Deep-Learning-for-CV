{
 "cells": [
  {
   "cell_type": "code",
   "execution_count": 1,
   "id": "16c2a963-daf8-420a-b790-b1134eb3b98a",
   "metadata": {},
   "outputs": [],
   "source": [
    "import datetime"
   ]
  },
  {
   "cell_type": "code",
   "execution_count": 2,
   "id": "21c4cb92-b0c3-4ab9-af21-29bc812612a3",
   "metadata": {},
   "outputs": [],
   "source": [
    "%load_ext tensorboard\n",
    "!rm -rf ./xbd_logs/fit/\n",
    "log_dir = \"xbd_logs/fit/\" + datetime.datetime.now().strftime(\"%Y%m%d-%H%M%S\")\n",
    "import os\n",
    "if not os.path.exists(log_dir):\n",
    "    os.makedirs(log_dir)"
   ]
  },
  {
   "cell_type": "markdown",
   "id": "ccb71250",
   "metadata": {},
   "source": [
    "## Imports"
   ]
  },
  {
   "cell_type": "code",
   "execution_count": 3,
   "id": "1651d237",
   "metadata": {},
   "outputs": [],
   "source": [
    "from typing import Any, Sequence, Union, Optional, Dict, Tuple\n",
    "\n",
    "import tqdm\n",
    "import glob\n",
    "import random\n",
    "import functools\n",
    "import imageio\n",
    "\n",
    "import numpy as np\n",
    "import pytorch_lightning as pl\n",
    "import albumentations as A\n",
    "from albumentations.pytorch.transforms import ToTensorV2\n",
    "import torch\n",
    "\n",
    "torch.set_float32_matmul_precision(\"high\")\n",
    "import torchdata.datapipes as dp\n",
    "from torchvision import transforms\n",
    "from torch.utils.data import DataLoader\n",
    "from torchmetrics import JaccardIndex\n",
    "\n",
    "# We broke a few utils functions out. \n",
    "from utils_ms import label_from_3band, read_rgb_tile, mask_from_tile, one_hot_2_class"
   ]
  },
  {
   "cell_type": "code",
   "execution_count": 4,
   "id": "81d26a45-94ce-4609-988d-54cacf7d52e8",
   "metadata": {},
   "outputs": [],
   "source": [
    "import sys\n",
    "sys.path.append('../../../moonshine')\n",
    "from moonshine.preprocessing import get_preprocessing_fn"
   ]
  },
  {
   "cell_type": "code",
   "execution_count": 5,
   "id": "98e256bc-ecd8-41d7-8366-9f67d094ae8b",
   "metadata": {},
   "outputs": [],
   "source": [
    "def read_item(path: str) -> Tuple[np.ndarray, np.ndarray]:\n",
    "    \"\"\"Read the image and the label mask from a path.\"\"\"\n",
    "    fn = get_preprocessing_fn(model=\"unet\", dataset=\"xbd_mexico\")\n",
    "    data, _ = read_rgb_tile(path)\n",
    "    data = fn(data)\n",
    "    data = data.astype(np.float32)\n",
    "\n",
    "    mask_path = label_from_3band(path, label_type=\"mask\")\n",
    "    mask = imageio.v2.imread(mask_path).astype(np.uint8)\n",
    "    mask[mask == 255] = 1\n",
    "    mask = one_hot_2_class(mask, num_classes=2)\n",
    "\n",
    "    return (data, mask)\n",
    "\n",
    "\n",
    "def remove_missing(path: str) -> bool:\n",
    "    \"\"\"If we are missing a label mask file, we'll skip that example.\"\"\"\n",
    "    mask_path = label_from_3band(path, label_type=\"mask\")\n",
    "    if os.path.exists(mask_path):\n",
    "        return True\n",
    "    return False\n",
    "\n",
    "\n",
    "def apply_transforms(row, transform):\n",
    "    \"\"\"Apply the PyTorch transforms for the DataPipe.\"\"\"\n",
    "    tfx = transform(image=row[0], mask=row[1])\n",
    "    return tfx[\"image\"], tfx[\"mask\"]\n",
    "\n",
    "\n",
    "def building_footprint_datapipe(files, transform):\n",
    "    \"\"\"Create the DataPipe for a set of files.\"\"\"\n",
    "    print(f\"Got {len(files)} files for this dataset\")\n",
    "\n",
    "    datapipe = dp.iter.IterableWrapper(files)\n",
    "    datapipe = datapipe.filter(remove_missing)\n",
    "    datapipe = datapipe.sharding_filter()\n",
    "    datapipe = datapipe.map(read_item)\n",
    "\n",
    "    if transform:\n",
    "        transform_fx = functools.partial(\n",
    "            apply_transforms,\n",
    "            transform=transform\n",
    "        )\n",
    "        datapipe = datapipe.map(transform_fx)\n",
    "\n",
    "    return datapipe"
   ]
  },
  {
   "cell_type": "code",
   "execution_count": 6,
   "id": "9bc8ac5d",
   "metadata": {},
   "outputs": [],
   "source": [
    "def train_test_split(\n",
    "    files: Sequence[str], train_percent: float = 0.8\n",
    ") -> Tuple[list, list, list]:\n",
    "    \"\"\"A simple train test split.\"\"\"\n",
    "    random.seed(1234)\n",
    "    total = len(files)\n",
    "    n_train = int(total * train_percent)\n",
    "    n_test = int(total * ((1-train_percent)/2))\n",
    "    random.shuffle(files)\n",
    "\n",
    "    return files[0:n_train], files[n_train:(n_train+n_test)], files[(n_train+n_test):]\n",
    "\n",
    "\n",
    "def get_dataset(files: Sequence[str], split: str = \"train\") -> DataLoader:\n",
    "    \"\"\"Create a dataset for building footprint classification.\"\"\"\n",
    "    tfx = [\n",
    "        A.RandomCrop(width=512, height=512),\n",
    "    ]\n",
    "    train_tfx = [\n",
    "        A.HorizontalFlip(p=0.5),\n",
    "        A.VerticalFlip(p=0.5),\n",
    "    ]\n",
    "    \n",
    "    if split == \"train\":\n",
    "        tfx.extend(train_tfx)\n",
    "    tfx.append(ToTensorV2(transpose_mask=True))\n",
    "        \n",
    "    datapipe = building_footprint_datapipe(\n",
    "        files,\n",
    "        transform=A.Compose(tfx),\n",
    "    )\n",
    "\n",
    "    return DataLoader(\n",
    "        dataset=datapipe,\n",
    "        batch_size=2,\n",
    "        shuffle=(split == \"train\"),\n",
    "        drop_last=True,\n",
    "        num_workers=4,\n",
    "        pin_memory=True,\n",
    "    )"
   ]
  },
  {
   "cell_type": "code",
   "execution_count": 10,
   "id": "35237921",
   "metadata": {},
   "outputs": [],
   "source": [
    "from moonshine.models.unet import UNet\n",
    "\n",
    "\n",
    "class BuildingClassifier(torch.nn.Module):\n",
    "    def __init__(self, pretrained=False):\n",
    "        super().__init__()\n",
    "\n",
    "        # Create a blank model based on the available architectures.\n",
    "        self.backbone = UNet(name=\"unet50_fmow_rgb\")\n",
    "\n",
    "        # If we are using pretrained weights, load them here. \n",
    "        if pretrained:\n",
    "            self.backbone.load_weights(\n",
    "                encoder_weights=\"unet50_fmow_rgb\", decoder_weights=None\n",
    "            )\n",
    "\n",
    "        # Run a per-pixel classifier on top of the output vectors.\n",
    "        self.classifier = torch.nn.Conv2d(32, 2, (1, 1))\n",
    "\n",
    "    def forward(self, x):\n",
    "        x = self.backbone(x)\n",
    "        return self.classifier(x)"
   ]
  },
  {
   "cell_type": "code",
   "execution_count": 8,
   "id": "471eab26",
   "metadata": {},
   "outputs": [],
   "source": [
    "class BuildingTrainer(pl.LightningModule):\n",
    "    def __init__(self, model):\n",
    "        super().__init__()\n",
    "        self.model = model\n",
    "        self.jaccard = JaccardIndex(task=\"multiclass\", num_classes=2)\n",
    "\n",
    "    def training_step(self, batch, batch_idx):\n",
    "        x, y = batch\n",
    "        y_hat = self.model(x)\n",
    "\n",
    "        loss = torch.nn.functional.cross_entropy(y_hat, y)\n",
    "        iou = self.jaccard(y_hat, y[:, 1, :, :])\n",
    "        self.log(\"train/loss\", loss, on_epoch=True, prog_bar=True)\n",
    "        self.log(\"train/iou\", iou, on_epoch=True, prog_bar=True)\n",
    "        return loss\n",
    "\n",
    "    def validation_step(self, batch, batch_idx):\n",
    "        x, y = batch\n",
    "        y_hat = self.model(x)\n",
    "\n",
    "        loss = torch.nn.functional.cross_entropy(y_hat, y)\n",
    "        iou = self.jaccard(y_hat, y[:, 1, :, :])\n",
    "        self.log(\"val/loss\", loss, on_epoch=True, prog_bar=True)\n",
    "        self.log(\"val/iou\", iou, on_epoch=True, prog_bar=True)\n",
    "        return loss\n",
    "\n",
    "    def configure_optimizers(self):\n",
    "        optimizer = torch.optim.Adam(self.parameters(), lr=1e-4)\n",
    "        return optimizer"
   ]
  },
  {
   "cell_type": "code",
   "execution_count": 11,
   "id": "2f607b8b-b9c7-47d4-8252-221e694e47af",
   "metadata": {
    "tags": []
   },
   "outputs": [
    {
     "name": "stderr",
     "output_type": "stream",
     "text": [
      "/media/vivek/Shared/anaconda_envs/dlp3/lib/python3.8/site-packages/torch/utils/data/graph_settings.py:90: UserWarning: `shuffle=True` was set, but the datapipe does not contain a `Shuffler`. Adding one at the end. Be aware that the default buffer size might not be sufficient for your task.\n",
      "  warnings.warn(\n",
      "GPU available: True (cuda), used: True\n",
      "TPU available: False, using: 0 TPU cores\n",
      "IPU available: False, using: 0 IPUs\n",
      "HPU available: False, using: 0 HPUs\n"
     ]
    },
    {
     "name": "stdout",
     "output_type": "stream",
     "text": [
      "Got 96 files for this dataset\n",
      "Got 13 files for this dataset\n"
     ]
    },
    {
     "name": "stderr",
     "output_type": "stream",
     "text": [
      "LOCAL_RANK: 0 - CUDA_VISIBLE_DEVICES: [0]\n",
      "\n",
      "  | Name    | Type                   | Params\n",
      "---------------------------------------------------\n",
      "0 | model   | BuildingClassifier     | 32.5 M\n",
      "1 | jaccard | MulticlassJaccardIndex | 0     \n",
      "---------------------------------------------------\n",
      "32.5 M    Trainable params\n",
      "0         Non-trainable params\n",
      "32.5 M    Total params\n",
      "130.167   Total estimated model params size (MB)\n"
     ]
    },
    {
     "data": {
      "application/vnd.jupyter.widget-view+json": {
       "model_id": "f996c3b3dd1942e0b0c8c528caded8d3",
       "version_major": 2,
       "version_minor": 0
      },
      "text/plain": [
       "Sanity Checking: 0it [00:00, ?it/s]"
      ]
     },
     "metadata": {},
     "output_type": "display_data"
    },
    {
     "data": {
      "application/vnd.jupyter.widget-view+json": {
       "model_id": "6820c18dcb5349af82b2f1c69816939f",
       "version_major": 2,
       "version_minor": 0
      },
      "text/plain": [
       "Training: 0it [00:00, ?it/s]"
      ]
     },
     "metadata": {},
     "output_type": "display_data"
    },
    {
     "data": {
      "application/vnd.jupyter.widget-view+json": {
       "model_id": "652a0724bcac4b91857ea95c43220f30",
       "version_major": 2,
       "version_minor": 0
      },
      "text/plain": [
       "Validation: 0it [00:00, ?it/s]"
      ]
     },
     "metadata": {},
     "output_type": "display_data"
    },
    {
     "data": {
      "application/vnd.jupyter.widget-view+json": {
       "model_id": "c6b01b4c4e8a45c3b2bb03d3888756e4",
       "version_major": 2,
       "version_minor": 0
      },
      "text/plain": [
       "Validation: 0it [00:00, ?it/s]"
      ]
     },
     "metadata": {},
     "output_type": "display_data"
    },
    {
     "data": {
      "application/vnd.jupyter.widget-view+json": {
       "model_id": "05e73eb3f76c4b82abcad753c854cc0c",
       "version_major": 2,
       "version_minor": 0
      },
      "text/plain": [
       "Validation: 0it [00:00, ?it/s]"
      ]
     },
     "metadata": {},
     "output_type": "display_data"
    },
    {
     "data": {
      "application/vnd.jupyter.widget-view+json": {
       "model_id": "4a30da0f44c843ec90fbbd910affd4ae",
       "version_major": 2,
       "version_minor": 0
      },
      "text/plain": [
       "Validation: 0it [00:00, ?it/s]"
      ]
     },
     "metadata": {},
     "output_type": "display_data"
    },
    {
     "data": {
      "application/vnd.jupyter.widget-view+json": {
       "model_id": "3756c775150c453da8c75bcf54694dea",
       "version_major": 2,
       "version_minor": 0
      },
      "text/plain": [
       "Validation: 0it [00:00, ?it/s]"
      ]
     },
     "metadata": {},
     "output_type": "display_data"
    },
    {
     "data": {
      "application/vnd.jupyter.widget-view+json": {
       "model_id": "ef3720255b144f01b0378e7d0e99c206",
       "version_major": 2,
       "version_minor": 0
      },
      "text/plain": [
       "Validation: 0it [00:00, ?it/s]"
      ]
     },
     "metadata": {},
     "output_type": "display_data"
    },
    {
     "data": {
      "application/vnd.jupyter.widget-view+json": {
       "model_id": "86ece986d52344d793f32639420cf020",
       "version_major": 2,
       "version_minor": 0
      },
      "text/plain": [
       "Validation: 0it [00:00, ?it/s]"
      ]
     },
     "metadata": {},
     "output_type": "display_data"
    },
    {
     "data": {
      "application/vnd.jupyter.widget-view+json": {
       "model_id": "8297bdbc86c54f22b076323a0bbe9bab",
       "version_major": 2,
       "version_minor": 0
      },
      "text/plain": [
       "Validation: 0it [00:00, ?it/s]"
      ]
     },
     "metadata": {},
     "output_type": "display_data"
    },
    {
     "data": {
      "application/vnd.jupyter.widget-view+json": {
       "model_id": "209022879b564093908b87fbc038b05f",
       "version_major": 2,
       "version_minor": 0
      },
      "text/plain": [
       "Validation: 0it [00:00, ?it/s]"
      ]
     },
     "metadata": {},
     "output_type": "display_data"
    },
    {
     "data": {
      "application/vnd.jupyter.widget-view+json": {
       "model_id": "b8cf77fbf9f0445393d89e9441fd7540",
       "version_major": 2,
       "version_minor": 0
      },
      "text/plain": [
       "Validation: 0it [00:00, ?it/s]"
      ]
     },
     "metadata": {},
     "output_type": "display_data"
    },
    {
     "data": {
      "application/vnd.jupyter.widget-view+json": {
       "model_id": "36000cceed984d4eb72aa0802af3ee5b",
       "version_major": 2,
       "version_minor": 0
      },
      "text/plain": [
       "Validation: 0it [00:00, ?it/s]"
      ]
     },
     "metadata": {},
     "output_type": "display_data"
    },
    {
     "data": {
      "application/vnd.jupyter.widget-view+json": {
       "model_id": "e33c2995dd004601a604ae4b11fa4410",
       "version_major": 2,
       "version_minor": 0
      },
      "text/plain": [
       "Validation: 0it [00:00, ?it/s]"
      ]
     },
     "metadata": {},
     "output_type": "display_data"
    },
    {
     "data": {
      "application/vnd.jupyter.widget-view+json": {
       "model_id": "c180c39232314f7d9869017783a39ce7",
       "version_major": 2,
       "version_minor": 0
      },
      "text/plain": [
       "Validation: 0it [00:00, ?it/s]"
      ]
     },
     "metadata": {},
     "output_type": "display_data"
    },
    {
     "data": {
      "application/vnd.jupyter.widget-view+json": {
       "model_id": "05c5e0f211994fcda1c0502d7907fbcc",
       "version_major": 2,
       "version_minor": 0
      },
      "text/plain": [
       "Validation: 0it [00:00, ?it/s]"
      ]
     },
     "metadata": {},
     "output_type": "display_data"
    },
    {
     "data": {
      "application/vnd.jupyter.widget-view+json": {
       "model_id": "82ca20281db84969a11ae6e68eed4668",
       "version_major": 2,
       "version_minor": 0
      },
      "text/plain": [
       "Validation: 0it [00:00, ?it/s]"
      ]
     },
     "metadata": {},
     "output_type": "display_data"
    },
    {
     "data": {
      "application/vnd.jupyter.widget-view+json": {
       "model_id": "a2d3f7cc42954ea6ad0c1527be6ca498",
       "version_major": 2,
       "version_minor": 0
      },
      "text/plain": [
       "Validation: 0it [00:00, ?it/s]"
      ]
     },
     "metadata": {},
     "output_type": "display_data"
    },
    {
     "data": {
      "application/vnd.jupyter.widget-view+json": {
       "model_id": "041fc0f2750d42178072c6ab54e44d72",
       "version_major": 2,
       "version_minor": 0
      },
      "text/plain": [
       "Validation: 0it [00:00, ?it/s]"
      ]
     },
     "metadata": {},
     "output_type": "display_data"
    },
    {
     "data": {
      "application/vnd.jupyter.widget-view+json": {
       "model_id": "34e063991dea408e96859b46d591c577",
       "version_major": 2,
       "version_minor": 0
      },
      "text/plain": [
       "Validation: 0it [00:00, ?it/s]"
      ]
     },
     "metadata": {},
     "output_type": "display_data"
    },
    {
     "data": {
      "application/vnd.jupyter.widget-view+json": {
       "model_id": "7845eef59b324d178b16cc164c93c355",
       "version_major": 2,
       "version_minor": 0
      },
      "text/plain": [
       "Validation: 0it [00:00, ?it/s]"
      ]
     },
     "metadata": {},
     "output_type": "display_data"
    },
    {
     "data": {
      "application/vnd.jupyter.widget-view+json": {
       "model_id": "20f6b47dda564334bb23851104528c8e",
       "version_major": 2,
       "version_minor": 0
      },
      "text/plain": [
       "Validation: 0it [00:00, ?it/s]"
      ]
     },
     "metadata": {},
     "output_type": "display_data"
    },
    {
     "data": {
      "application/vnd.jupyter.widget-view+json": {
       "model_id": "37ddbb9cad564aa58470bac670cfb34c",
       "version_major": 2,
       "version_minor": 0
      },
      "text/plain": [
       "Validation: 0it [00:00, ?it/s]"
      ]
     },
     "metadata": {},
     "output_type": "display_data"
    },
    {
     "data": {
      "application/vnd.jupyter.widget-view+json": {
       "model_id": "122db4778d874e049f0f4a79c67169fa",
       "version_major": 2,
       "version_minor": 0
      },
      "text/plain": [
       "Validation: 0it [00:00, ?it/s]"
      ]
     },
     "metadata": {},
     "output_type": "display_data"
    },
    {
     "data": {
      "application/vnd.jupyter.widget-view+json": {
       "model_id": "4f7322b9f8de4a39a828d71720f91698",
       "version_major": 2,
       "version_minor": 0
      },
      "text/plain": [
       "Validation: 0it [00:00, ?it/s]"
      ]
     },
     "metadata": {},
     "output_type": "display_data"
    },
    {
     "data": {
      "application/vnd.jupyter.widget-view+json": {
       "model_id": "b1045e11724544c59b7ab1d9f33ab2da",
       "version_major": 2,
       "version_minor": 0
      },
      "text/plain": [
       "Validation: 0it [00:00, ?it/s]"
      ]
     },
     "metadata": {},
     "output_type": "display_data"
    },
    {
     "data": {
      "application/vnd.jupyter.widget-view+json": {
       "model_id": "f714aa05ed7f4d8abf2e26f8f65b24d8",
       "version_major": 2,
       "version_minor": 0
      },
      "text/plain": [
       "Validation: 0it [00:00, ?it/s]"
      ]
     },
     "metadata": {},
     "output_type": "display_data"
    },
    {
     "data": {
      "application/vnd.jupyter.widget-view+json": {
       "model_id": "57372694ed3f4560a5e518d71da24d09",
       "version_major": 2,
       "version_minor": 0
      },
      "text/plain": [
       "Validation: 0it [00:00, ?it/s]"
      ]
     },
     "metadata": {},
     "output_type": "display_data"
    },
    {
     "data": {
      "application/vnd.jupyter.widget-view+json": {
       "model_id": "b0bdf378f118482c8f308cb593e2ac82",
       "version_major": 2,
       "version_minor": 0
      },
      "text/plain": [
       "Validation: 0it [00:00, ?it/s]"
      ]
     },
     "metadata": {},
     "output_type": "display_data"
    },
    {
     "data": {
      "application/vnd.jupyter.widget-view+json": {
       "model_id": "efa4470d0f174e7ea6abf20578c47d67",
       "version_major": 2,
       "version_minor": 0
      },
      "text/plain": [
       "Validation: 0it [00:00, ?it/s]"
      ]
     },
     "metadata": {},
     "output_type": "display_data"
    },
    {
     "data": {
      "application/vnd.jupyter.widget-view+json": {
       "model_id": "570356f31e3f4c03af34d6932993ed55",
       "version_major": 2,
       "version_minor": 0
      },
      "text/plain": [
       "Validation: 0it [00:00, ?it/s]"
      ]
     },
     "metadata": {},
     "output_type": "display_data"
    },
    {
     "data": {
      "application/vnd.jupyter.widget-view+json": {
       "model_id": "4c2e7565896f4d2a93110a56c50f191e",
       "version_major": 2,
       "version_minor": 0
      },
      "text/plain": [
       "Validation: 0it [00:00, ?it/s]"
      ]
     },
     "metadata": {},
     "output_type": "display_data"
    },
    {
     "data": {
      "application/vnd.jupyter.widget-view+json": {
       "model_id": "9f1cb15d7ff143fe90ab3422795614b2",
       "version_major": 2,
       "version_minor": 0
      },
      "text/plain": [
       "Validation: 0it [00:00, ?it/s]"
      ]
     },
     "metadata": {},
     "output_type": "display_data"
    },
    {
     "data": {
      "application/vnd.jupyter.widget-view+json": {
       "model_id": "dd15a9fcd638454eb3e3766d62379b70",
       "version_major": 2,
       "version_minor": 0
      },
      "text/plain": [
       "Validation: 0it [00:00, ?it/s]"
      ]
     },
     "metadata": {},
     "output_type": "display_data"
    },
    {
     "data": {
      "application/vnd.jupyter.widget-view+json": {
       "model_id": "b525d826a80a4f6dbc8ca16010d4c8a2",
       "version_major": 2,
       "version_minor": 0
      },
      "text/plain": [
       "Validation: 0it [00:00, ?it/s]"
      ]
     },
     "metadata": {},
     "output_type": "display_data"
    },
    {
     "data": {
      "application/vnd.jupyter.widget-view+json": {
       "model_id": "9c543c4ca37f4ea9a89c5fb5cc186c26",
       "version_major": 2,
       "version_minor": 0
      },
      "text/plain": [
       "Validation: 0it [00:00, ?it/s]"
      ]
     },
     "metadata": {},
     "output_type": "display_data"
    },
    {
     "data": {
      "application/vnd.jupyter.widget-view+json": {
       "model_id": "a47c8ac4f26d42cd8e14688626bbe7f9",
       "version_major": 2,
       "version_minor": 0
      },
      "text/plain": [
       "Validation: 0it [00:00, ?it/s]"
      ]
     },
     "metadata": {},
     "output_type": "display_data"
    },
    {
     "data": {
      "application/vnd.jupyter.widget-view+json": {
       "model_id": "b057e2b36a8b4d2a867a2097425af5d6",
       "version_major": 2,
       "version_minor": 0
      },
      "text/plain": [
       "Validation: 0it [00:00, ?it/s]"
      ]
     },
     "metadata": {},
     "output_type": "display_data"
    },
    {
     "data": {
      "application/vnd.jupyter.widget-view+json": {
       "model_id": "6b8444d5a4d344b68fad36f008dcc1eb",
       "version_major": 2,
       "version_minor": 0
      },
      "text/plain": [
       "Validation: 0it [00:00, ?it/s]"
      ]
     },
     "metadata": {},
     "output_type": "display_data"
    },
    {
     "data": {
      "application/vnd.jupyter.widget-view+json": {
       "model_id": "0904964ac41144488824f3b5a92fee2f",
       "version_major": 2,
       "version_minor": 0
      },
      "text/plain": [
       "Validation: 0it [00:00, ?it/s]"
      ]
     },
     "metadata": {},
     "output_type": "display_data"
    },
    {
     "data": {
      "application/vnd.jupyter.widget-view+json": {
       "model_id": "edcaaf2baf2d44678188669a98cb8421",
       "version_major": 2,
       "version_minor": 0
      },
      "text/plain": [
       "Validation: 0it [00:00, ?it/s]"
      ]
     },
     "metadata": {},
     "output_type": "display_data"
    },
    {
     "data": {
      "application/vnd.jupyter.widget-view+json": {
       "model_id": "2ea7324a4e714cf7a33db31f798dd7f7",
       "version_major": 2,
       "version_minor": 0
      },
      "text/plain": [
       "Validation: 0it [00:00, ?it/s]"
      ]
     },
     "metadata": {},
     "output_type": "display_data"
    },
    {
     "data": {
      "application/vnd.jupyter.widget-view+json": {
       "model_id": "93015c174e7a40f0a68979a962af4ae5",
       "version_major": 2,
       "version_minor": 0
      },
      "text/plain": [
       "Validation: 0it [00:00, ?it/s]"
      ]
     },
     "metadata": {},
     "output_type": "display_data"
    },
    {
     "data": {
      "application/vnd.jupyter.widget-view+json": {
       "model_id": "4f0f8403d3904cb29519cb07e8159b5a",
       "version_major": 2,
       "version_minor": 0
      },
      "text/plain": [
       "Validation: 0it [00:00, ?it/s]"
      ]
     },
     "metadata": {},
     "output_type": "display_data"
    },
    {
     "data": {
      "application/vnd.jupyter.widget-view+json": {
       "model_id": "3f47014be3a54a439b39f2c09b0ffdc9",
       "version_major": 2,
       "version_minor": 0
      },
      "text/plain": [
       "Validation: 0it [00:00, ?it/s]"
      ]
     },
     "metadata": {},
     "output_type": "display_data"
    },
    {
     "data": {
      "application/vnd.jupyter.widget-view+json": {
       "model_id": "b24dc052e26147ca9ba6bb51cc3b6555",
       "version_major": 2,
       "version_minor": 0
      },
      "text/plain": [
       "Validation: 0it [00:00, ?it/s]"
      ]
     },
     "metadata": {},
     "output_type": "display_data"
    },
    {
     "data": {
      "application/vnd.jupyter.widget-view+json": {
       "model_id": "217a1a617cfc4a30a80bc43e8df0a96d",
       "version_major": 2,
       "version_minor": 0
      },
      "text/plain": [
       "Validation: 0it [00:00, ?it/s]"
      ]
     },
     "metadata": {},
     "output_type": "display_data"
    },
    {
     "data": {
      "application/vnd.jupyter.widget-view+json": {
       "model_id": "d509fcde36a6444b9c751cc059d7ba03",
       "version_major": 2,
       "version_minor": 0
      },
      "text/plain": [
       "Validation: 0it [00:00, ?it/s]"
      ]
     },
     "metadata": {},
     "output_type": "display_data"
    },
    {
     "data": {
      "application/vnd.jupyter.widget-view+json": {
       "model_id": "6e3ac572783a440e8ec8957bcf3cfa01",
       "version_major": 2,
       "version_minor": 0
      },
      "text/plain": [
       "Validation: 0it [00:00, ?it/s]"
      ]
     },
     "metadata": {},
     "output_type": "display_data"
    },
    {
     "data": {
      "application/vnd.jupyter.widget-view+json": {
       "model_id": "94ecb1d98ccf4849bb6d1e3ab19d7558",
       "version_major": 2,
       "version_minor": 0
      },
      "text/plain": [
       "Validation: 0it [00:00, ?it/s]"
      ]
     },
     "metadata": {},
     "output_type": "display_data"
    },
    {
     "data": {
      "application/vnd.jupyter.widget-view+json": {
       "model_id": "0e07b8921b484c838a7236321ac76a99",
       "version_major": 2,
       "version_minor": 0
      },
      "text/plain": [
       "Validation: 0it [00:00, ?it/s]"
      ]
     },
     "metadata": {},
     "output_type": "display_data"
    },
    {
     "data": {
      "application/vnd.jupyter.widget-view+json": {
       "model_id": "15bbb12646854e41904b62971ce9e70d",
       "version_major": 2,
       "version_minor": 0
      },
      "text/plain": [
       "Validation: 0it [00:00, ?it/s]"
      ]
     },
     "metadata": {},
     "output_type": "display_data"
    },
    {
     "name": "stderr",
     "output_type": "stream",
     "text": [
      "`Trainer.fit` stopped: `max_epochs=50` reached.\n"
     ]
    }
   ],
   "source": [
    "DATA_PATH = '/media/vivek/Shared/Turkey_data/current/mshine/moonshine/examples/building_footprints/mexico_split/'\n",
    "\n",
    "files = glob.glob(os.path.join(DATA_PATH, \"all/post/*.tif\"))\n",
    "\n",
    "# Create a name for Tensorboard\n",
    "exp_name = f\"building_model\"\n",
    "\n",
    "# Create our datasets.\n",
    "train_files, test_files, val_files = train_test_split(files)\n",
    "train_dataset = get_dataset(train_files, split=\"train\")\n",
    "val_dataset = get_dataset(val_files, split=\"val\")\n",
    "\n",
    "logger = pl.loggers.TensorBoardLogger(log_dir, name=exp_name)\n",
    "trainer = pl.Trainer(\n",
    "    accelerator=\"auto\",\n",
    "    max_epochs=50,\n",
    "    enable_progress_bar=True,\n",
    "    logger=logger,\n",
    ")\n",
    "\n",
    "model = BuildingClassifier(pretrained=True)\n",
    "pytrain = BuildingTrainer(model)\n",
    "\n",
    "# Train!\n",
    "trainer.fit(\n",
    "    model=pytrain,\n",
    "    train_dataloaders=train_dataset,\n",
    "    val_dataloaders=val_dataset,\n",
    ")"
   ]
  },
  {
   "cell_type": "code",
   "execution_count": null,
   "id": "d3efb9a4-d499-4be1-a2c0-3543559165ca",
   "metadata": {},
   "outputs": [],
   "source": [
    "torch.save(model.state_dict(), '/media/vivek/Shared/Turkey_data/current/mshine/moonshine/examples/building_footprints/models/trainedc512b2.pt')"
   ]
  },
  {
   "cell_type": "code",
   "execution_count": 13,
   "id": "c59f12b4",
   "metadata": {},
   "outputs": [
    {
     "data": {
      "text/html": [
       "\n",
       "      <iframe id=\"tensorboard-frame-d72f9ecdd454f1e8\" width=\"100%\" height=\"800\" frameborder=\"0\">\n",
       "      </iframe>\n",
       "      <script>\n",
       "        (function() {\n",
       "          const frame = document.getElementById(\"tensorboard-frame-d72f9ecdd454f1e8\");\n",
       "          const url = new URL(\"/\", window.location);\n",
       "          const port = 6006;\n",
       "          if (port) {\n",
       "            url.port = port;\n",
       "          }\n",
       "          frame.src = url;\n",
       "        })();\n",
       "      </script>\n",
       "    "
      ],
      "text/plain": [
       "<IPython.core.display.HTML object>"
      ]
     },
     "metadata": {},
     "output_type": "display_data"
    }
   ],
   "source": [
    "%tensorboard --logdir log_dir"
   ]
  },
  {
   "cell_type": "code",
   "execution_count": null,
   "id": "34a14c61-8fc4-4879-8054-50671ab76d82",
   "metadata": {},
   "outputs": [],
   "source": []
  }
 ],
 "metadata": {
  "kernelspec": {
   "display_name": "Python 3 (ipykernel)",
   "language": "python",
   "name": "python3"
  },
  "language_info": {
   "codemirror_mode": {
    "name": "ipython",
    "version": 3
   },
   "file_extension": ".py",
   "mimetype": "text/x-python",
   "name": "python",
   "nbconvert_exporter": "python",
   "pygments_lexer": "ipython3",
   "version": "3.8.16"
  }
 },
 "nbformat": 4,
 "nbformat_minor": 5
}
